{
 "cells": [
  {
   "cell_type": "markdown",
   "metadata": {},
   "source": [
    "# Distance-based Generalized Sensitivity Analysis: An Application to the DNAPL Test Case\n",
    "**Date**: 3/26/2017"
   ]
  },
  {
   "cell_type": "markdown",
   "metadata": {},
   "source": [
    "## 1 Introduction"
   ]
  },
  {
   "cell_type": "markdown",
   "metadata": {},
   "source": [
    "In this notebook, we will give an introduction on how to apply DGSA step by step to the presented case study, DNAPL test case, in the book as an aid to understand the procedure of DGSA, and further help users to apply DGSA on their own dataset.\n",
    "\n",
    "Here, a simplified version of the DNAPL test case where the number of uncertain parameters was reduced to 6, will be presented. These parameters include the mean and standard deviation of the hydraulic conductivity (***Kmean*** and ***Ksd*** respectively), the covariance model (***KCov***), the anistropy angle(***Kangle***) of the hydraulic conductivity, the river gradient (***HrivGrad***) and the range of the Matern covariance model (***Hrange***). All other parameters are fixed to their mean values. The response variable is the pollutant arrival time, which is a time-varying variable. More detail on the description of the DNAPL test case can be referred to Chapter 2 of the book (Scheidt et al., 2017).\n",
    "\n",
    "By using DGSA, we will investigate: 1) main effect of 6 parameters, and 2) influence of two-way interactions among these parameters on the response variable."
   ]
  },
  {
   "cell_type": "markdown",
   "metadata": {},
   "source": [
    "## 2 Loading Parameter Values"
   ]
  },
  {
   "cell_type": "markdown",
   "metadata": {},
   "source": [
    "Two hundred parameter combinations were sampled by using Latin Hypercube Sampling (LHS) and saved as matlab ***.mat*** file. Here, we didn't show the sampling procedure, but directly loaded the generated file from the workpath. "
   ]
  },
  {
   "cell_type": "code",
   "execution_count": null,
   "metadata": {
    "collapsed": false
   },
   "outputs": [],
   "source": [
    "addpath('../src/DGSA/');\n",
    "addpath('../data/DGSA');\n",
    "load('ParamValues.mat','ParamsValues','ParamsNames')\n",
    "ParamsNames = {'Kmean';'Ksd';'Krange';'HrivGrad';'Hrange';'KCov'};"
   ]
  },
  {
   "cell_type": "markdown",
   "metadata": {},
   "source": [
    "The ***.mat*** file for parameter values is simply a matrix, with each column corresponding to one parameter,as partially shown in the following figure \n",
    "\n",
    "<img src=\"files/parameters.png\",width=\"400\",style=\"float: center\">"
   ]
  },
  {
   "cell_type": "markdown",
   "metadata": {},
   "source": [
    "## 3 Loading Model Response Data"
   ]
  },
  {
   "cell_type": "markdown",
   "metadata": {
    "collapsed": false
   },
   "source": [
    "Based on the parameter values, 200 models are generated; and for each model, a time series containing 217 time intervals can be obtained by proxy flow simulation. We loaded the response result directly from current directory."
   ]
  },
  {
   "cell_type": "code",
   "execution_count": null,
   "metadata": {
    "collapsed": false
   },
   "outputs": [],
   "source": [
    "%plot inline -s 600,400\n",
    "\n",
    "load('Inputs\\SimulationOutput.mat','AllCDrinkingWell','OutputTime','TimeVecDays')\n",
    "figure;\n",
    "plot(OutputTime/86400,AllCDrinkingWell,'b-')\n",
    "xlim([0,55]);ylim([0,25])\n",
    "xlabel('Time(Days)')\n",
    "ylabel('Concentration')"
   ]
  },
  {
   "cell_type": "markdown",
   "metadata": {},
   "source": [
    "Note that users needs to create and replace with their own input parameter and response dataset before applying DGSA into their own case study."
   ]
  },
  {
   "cell_type": "markdown",
   "metadata": {},
   "source": [
    "## 4 Clustering the Response Results"
   ]
  },
  {
   "cell_type": "markdown",
   "metadata": {},
   "source": [
    "DGSA is based on the following principle: the response results are first classified into a limited set of classes; for any given parameter, if the frequency distribution is the same among the classes, then the model response is insensitive to the parameter; otherwise, it is sensitive. \n",
    "\n",
    "DGSA firstly applies clustering methods, such as $k$-means, $k$-medoids, to partition the response variables into several classes. "
   ]
  },
  {
   "cell_type": "markdown",
   "metadata": {},
   "source": [
    "### 4.1 Evaluate distance matrix between model responses\n",
    "Since each model response is a time-varying variable, the distance between any pair of models is calculated as the Euclidean distance implemented on each time interval."
   ]
  },
  {
   "cell_type": "code",
   "execution_count": null,
   "metadata": {
    "collapsed": false
   },
   "outputs": [],
   "source": [
    "d = pdist(AllCDrinkingWell); "
   ]
  },
  {
   "cell_type": "markdown",
   "metadata": {},
   "source": [
    "### 4.2 $k$-medoids clustering analysis\n",
    "Before proceeding with clustering analysis, an appropriate number of clusters need to be predefined. It can be determined using Silhouette index (Rousseeuw, 1987), for example. Also, user can determine a preferred cluster number based on experience. Here, for our case study, the cluster number is set to 3."
   ]
  },
  {
   "cell_type": "code",
   "execution_count": null,
   "metadata": {
    "collapsed": false
   },
   "outputs": [],
   "source": [
    "%number of clusters can be changed according to specific applications\n",
    "nbclusters = 3;\n",
    "%20 is iteration number to find optimal clustering result\n",
    "Clustering = kmedoids(d ,nbclusters,20);"
   ]
  },
  {
   "cell_type": "markdown",
   "metadata": {},
   "source": [
    "Here, the return value ***Clustering*** is a structure containing three members: cluster labels for each model response, medoids of each cluster and cluster size."
   ]
  },
  {
   "cell_type": "markdown",
   "metadata": {},
   "source": [
    "## 5 Evaluate Main Effect"
   ]
  },
  {
   "cell_type": "markdown",
   "metadata": {},
   "source": [
    "For any given parameter, the difference between the prior empirical distribution function and the class-conditional empirical distribution function is used to evaluate the effect of the parameter on the response variable. The difference is quantitatively measured by the distance between the two distributions, denoted as ***cdf distance***. The distance is defined as\n",
    "\n",
    "$$\\hat{d}^{(k)}_n = f_{\\Delta{cdf}} (\\hat{F}(x_n),\\hat{F}(x_n|c_k)) \\quad k = 1,...K,$$\n",
    "\n",
    "where $x_n$ is the $n$-th inputer parameter ($n = 1,...,N_p$), and $c_k$ denotes the $k$-th cluster obtained from previous cluster analysis. This distance is determined by evaluating the L1-norm, representing the area between the two distribution curves as illustrated in following figure (Fenwick et al., 2014): \n",
    "\n",
    "<img src=\"files/distOfdistribution.png\",width=\"400\",style=\"float: center\">"
   ]
  },
  {
   "cell_type": "markdown",
   "metadata": {},
   "source": [
    "### 5.1 Plot CDF of each parameter for each class\n",
    "For each parameter, we first visualize the ***cdfs*** for the parameter values as a whole and for those in each class, to inspect their differences."
   ]
  },
  {
   "cell_type": "code",
   "execution_count": null,
   "metadata": {
    "collapsed": false
   },
   "outputs": [],
   "source": [
    "%plot inline -s 1400,800\n",
    "cdf_MainFactor(ParamsValues,Clustering,ParamsNames);"
   ]
  },
  {
   "cell_type": "markdown",
   "metadata": {},
   "source": [
    "The red, blue and green curves correspond to ***cdfs*** of all clusters, and the black one is the ***cdf*** of unclustered parameter values."
   ]
  },
  {
   "cell_type": "markdown",
   "metadata": {},
   "source": [
    "### 5.2 Apply DGSA to evaluate the main effect\n",
    "For the purpose of comparing sensitivities among different parameters, a standardized measure of sensitivity is defined using bootstrap resampling (double hat notation) as follows:\n",
    "\n",
    "$$\\hat{d}^{S(k)}_n = \\frac {\\hat{d}^{(k)}_n}{\\hat{\\hat{d}}^{(k)}_{n,\\alpha}},$$\n",
    "\n",
    "where $\\alpha$ represents the confidence level (by default 0.95), and ${\\hat{\\hat{d}}^{(k)}_{n,\\alpha}}$ is the $\\alpha$-quantile of the distances from the resampling procedure. \n",
    "Then, an averaged sensitivity value can be calculated as\n",
    "\n",
    "$$s(x_n) = \\frac{1}{K}\\sum_{k=1}^{K}\\hat{d}^{S(k)}_n.$$\n",
    "\n",
    "$s(x_n)$ is taken as the main effect of $n$-th parameter $x_n$ on the response variable. The main effect is usually visualized using the Pareto chart. Readers should be reminded that whether or not the parameter $x_n$ is sensitive depends on the difference of standardized measure of sensitivity $\\hat{d}^{S(k)}_n$ (not the average sensitivity value $s(x_n)$) with respect to 1."
   ]
  },
  {
   "cell_type": "code",
   "execution_count": null,
   "metadata": {
    "collapsed": false
   },
   "outputs": [],
   "source": [
    "%plot inline -s 600,400\n",
    "\n",
    "inputs = struct('PlotType','L1norm');\n",
    "[PvalMainFactors,L1MainFactors,~,SensitivityMainFactorperClass] = dGSA_MainFactors(Clustering,ParamsValues,ParamsNames,inputs); "
   ]
  },
  {
   "cell_type": "markdown",
   "metadata": {},
   "source": [
    "Note that the length of the bars represent the average sensitivity value $s(x_n)$, while the color indicates the maximum of the standardized sensitivity measure over all classes for any given parameter."
   ]
  },
  {
   "cell_type": "markdown",
   "metadata": {},
   "source": [
    "Another way to represent main effect is to display $\\widetilde {ASL}(\\hat{d}^{(k)}_n)$ (the achieved significance level), which is defined as\n",
    "\n",
    "$$\\widetilde {ASL}(\\hat{d}^{(k)}_n) = P({\\hat{\\hat{d}}^{(k)}_{n}}\\leqslant {\\hat{d}^{(k)}_n}).$$\n",
    "\n",
    "The global sensitivity measure $s^*(x_n)$ for parameter $x_n$ is then represented by the maximum $\\widetilde {ASL}$ of all classes:\n",
    "\n",
    "$$s^*(x_n) = \\max_k \\widetilde{ASL}(\\hat{d}^{(k)}_n)$$\n",
    "\n",
    "Sensitivity can then be determined based on the value of confidence of the hypothesis test:\n",
    "* $s^*(x_n)>\\alpha$, the parameter $x_n$ is critical\n",
    "* $s^*(x_n)<\\alpha$, the parameter $x_n$ is insensitive\n",
    "* $s^*(x_n)\\thickapprox \\alpha$, the parameter $x_n$ is important\n",
    "\n",
    "Here $\\alpha$ represents confidence level, and is set to 0.95 in our case study."
   ]
  },
  {
   "cell_type": "code",
   "execution_count": null,
   "metadata": {
    "collapsed": false,
    "scrolled": true
   },
   "outputs": [],
   "source": [
    "%plot inline -s 600,400\n",
    "inputs = struct('PlotType','ASL');\n",
    "[PvalMainFactors,L1MainFactors,~,SensitivityMainFactorperClass] = dGSA_MainFactors(Clustering,ParamsValues,ParamsNames,inputs); "
   ]
  },
  {
   "cell_type": "markdown",
   "metadata": {},
   "source": [
    "Both of these two sensitivity measures indicate that: 1) the river gradient (***HrivGrad***) is the most influential parameter affecting the model response, and 2) in addition to ***HrivGrad***, the mean and standard deviation of the hydraulic conductivity (***Kmean*** and ***Ksd*** respectively) are also sensitive."
   ]
  },
  {
   "cell_type": "markdown",
   "metadata": {},
   "source": [
    "## 6 Evaluate Sensitivity of Parameter Interaction"
   ]
  },
  {
   "cell_type": "markdown",
   "metadata": {},
   "source": [
    "Quantifying sensitivity of two-way parameter interactions follows the exact same principle as for single-way sensitivity, namely: response is sensitive to the parameter interaction if there is significant difference between the class-conditional distribution of a parameter and the class-conditional distribution of that parameter additionally conditioned to a second parameter.\n",
    "For a given class, the sensitivity measure for two-way interactions is again a function of the distance between two ***cdfs***:\n",
    "\n",
    "$$\\hat{d}_{k,n|{{n^\\prime},m}} = f_{\\Delta{cdf}}(\\hat{F}(x_n|({x_{n^\\prime},t_m),c_k}),\\hat{F}(x_n,c_k)) \\qquad\\forall k, \\forall m,$$\n",
    "\n",
    "where $t_m$ is the $m$-th bin of conditional parameter ($m = 1,...,M$). This measure is used to determine whether there is any interaction of $x_{n^\\prime}$ on $x_n$ which influences the response variable."
   ]
  },
  {
   "cell_type": "markdown",
   "metadata": {},
   "source": [
    "### 6.1 Define the number of bins for each conditional parameters\n",
    "The conditional parameter is usually binned into a few levels, such as low/medium/high."
   ]
  },
  {
   "cell_type": "code",
   "execution_count": null,
   "metadata": {
    "collapsed": false
   },
   "outputs": [],
   "source": [
    "NbBins = 3*ones(1,length(ParamsNames));\n",
    "% for the covariance parameter\n",
    "NbBins(end) = 2; "
   ]
  },
  {
   "cell_type": "markdown",
   "metadata": {},
   "source": [
    "### 6.2 Plot CDF of each parameter for each class\n",
    "DGSA models two-way interactions through conditional distributions, and therefore this measure of sensitivity is asymmetric.When the number of input parameters is $N_p$ ,then there are $N_p\\times(N_p - 1)$ combinations. If $N_p$ is large, the number of interactions would be very large. Here, we only display the result for ***Kmean|Ksd in c1*** as an example."
   ]
  },
  {
   "cell_type": "code",
   "execution_count": null,
   "metadata": {
    "collapsed": false
   },
   "outputs": [],
   "source": [
    "%plot inline -s 500,400\n",
    "\n",
    "cdf_Interactions(ParamsValues(:,1),ParamsValues(:,2),...\n",
    "Clustering,NbBins(2),1,'Kmean|Ksd in C1')"
   ]
  },
  {
   "cell_type": "markdown",
   "metadata": {},
   "source": [
    "### 6.3 Apply DGSA to evaluate conditional effect\n",
    "Similar to the approach for main effect, a sensitivity measure of conditional interaction per class can be defined as:\n",
    "\n",
    "$$s_k(x_n|x_{n^\\prime}) = \\frac{1}{M}\\sum_{m=1}^M \\hat{d}^S_{k,n|{{n^\\prime},m}},\\quad\\forall k \\text{ } with \\text{ } \\hat{d}^S_{k,n|{{n^\\prime},m}} = \\frac{\\hat{d}_{k,n|{{n^\\prime},m}}}{\\hat{\\hat{d}}^{(\\alpha)}_{k,n|{{n^\\prime},m}}}$$\n",
    "\n",
    "where $\\hat{\\hat{d}}^{(\\alpha)}_{k,n|{{n^\\prime},m}}$ is the $\\alpha$-quantile of the distances from the resampling procedure.\n",
    "Also, the average measure of sensitivity over all classes can be determined\n",
    "\n",
    "$$s(x_n|x_{n^\\prime}) = \\frac{1}{K}\\frac{1}{M}\\sum_{k=1}^K\\sum_{m=1}^M \\hat{d}^S_{k,n|{{n^\\prime},m}}$$\n",
    "\n",
    "then $s(x_n|x_{n^\\prime})$ is the two-way interaction sensitivity measure."
   ]
  },
  {
   "cell_type": "code",
   "execution_count": null,
   "metadata": {
    "collapsed": false
   },
   "outputs": [],
   "source": [
    "%plot inline -s 600,500\n",
    "\n",
    "inputs = struct('PlotType','L1norm','L1MainFactors',SensitivityMainFactorperClass);\n",
    "[ALSInteractions,L1Interactions] = dGSA_Interactions(Clustering,...\n",
    "ParamsValues,NbBins,ParamsNames,inputs); "
   ]
  },
  {
   "cell_type": "markdown",
   "metadata": {},
   "source": [
    "Here, we use a table to visualize the two-way interactions, where the diagonal values show the L1norm-based sensitivity values for the main effect, and the off-diagonal values are the L1norm-based sensitivity values for the two-way interactions (row|col). Again, note that the values within the cell represent the average sensitivity measure for two-way interactions, while the color indicates the maximum of $\\hat{d}^S_{k,n|{{n^\\prime},m}}$ among all classess and all bins."
   ]
  },
  {
   "cell_type": "markdown",
   "metadata": {},
   "source": [
    "Also, we can evaluate the ASL-based two-way interactions as in the case of main effect. "
   ]
  },
  {
   "cell_type": "code",
   "execution_count": null,
   "metadata": {
    "collapsed": false
   },
   "outputs": [],
   "source": [
    "%plot inline -s 600,500\n",
    "inputs = struct('PlotType','ASL','ASLMainFactor',PvalMainFactors);\n",
    "[ALSInteractions,L1Interactions] = dGSA_Interactions(Clustering,ParamsValues,NbBins,ParamsNames,inputs); "
   ]
  },
  {
   "cell_type": "markdown",
   "metadata": {},
   "source": [
    "The results for two-way interactions show that: 1) each parameter has at least one influential interaction with another parameter, and 2) ***HrivGrad|Ksd*** is critical to the variation of the response, and 3) two-way interactions are asymmetric."
   ]
  },
  {
   "cell_type": "markdown",
   "metadata": {},
   "source": [
    "## References\n",
    "Fenwick, D. S. (2014). Quantifying Asymmetric Parameter Interactions in Sensitivity Analysis: Application to Reservoir Modeling. Mathematical Geosciences , 46 (4), 493–511.\n",
    "\n",
    "Park, J. (2016). DGSA: A Matlab toolbox for distance-based generalized sensitivity analysis of geoscientific computer experiments. Computers & Geosciences, 97, 15–29.\n",
    "\n",
    "Scheidt, C., Li, L. and Caers, J. (2017). Quantifying Uncertainty in Subsurface systems. Wiley-Blackwell."
   ]
  },
  {
   "cell_type": "code",
   "execution_count": null,
   "metadata": {
    "collapsed": true
   },
   "outputs": [],
   "source": []
  }
 ],
 "metadata": {
  "kernelspec": {
   "display_name": "Matlab",
   "language": "matlab",
   "name": "matlab"
  },
  "language_info": {
   "codemirror_mode": "octave",
   "file_extension": ".m",
   "help_links": [
    {
     "text": "MetaKernel Magics",
     "url": "https://github.com/calysto/metakernel/blob/master/metakernel/magics/README.md"
    }
   ],
   "mimetype": "text/x-matlab",
   "name": "matlab",
   "version": "0.8.0"
  }
 },
 "nbformat": 4,
 "nbformat_minor": 2
}
